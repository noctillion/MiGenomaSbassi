{
  "nbformat": 4,
  "nbformat_minor": 0,
  "metadata": {
    "colab": {
      "name": "Untitled1.ipynb",
      "provenance": [],
      "private_outputs": true,
      "collapsed_sections": [],
      "toc_visible": true,
      "mount_file_id": "1eFKAVhl-pM_Wsj-U5EoNAEp_1QhGQmXK",
      "authorship_tag": "ABX9TyPwvRiwo3grGctU+9A1b0wI",
      "include_colab_link": true
    },
    "kernelspec": {
      "name": "python3",
      "display_name": "Python 3"
    },
    "accelerator": "GPU"
  },
  "cells": [
    {
      "cell_type": "markdown",
      "metadata": {
        "id": "view-in-github",
        "colab_type": "text"
      },
      "source": [
        "<a href=\"https://colab.research.google.com/github/noctillion/MiGenomaSbassi/blob/master/Untitled1.ipynb\" target=\"_parent\"><img src=\"https://colab.research.google.com/assets/colab-badge.svg\" alt=\"Open In Colab\"/></a>"
      ]
    },
    {
      "cell_type": "code",
      "metadata": {
        "id": "oU-o6nFplJDR",
        "colab_type": "code",
        "colab": {}
      },
      "source": [
        "import pandas as pd"
      ],
      "execution_count": null,
      "outputs": []
    },
    {
      "cell_type": "code",
      "metadata": {
        "colab_type": "code",
        "id": "sXnDmXR7RDr2",
        "colab": {}
      },
      "source": [
        "%tensorflow_version 2.x\n",
        "import tensorflow as tf\n",
        "device_name = tf.test.gpu_device_name()\n",
        "if device_name != '/device:GPU:0':\n",
        "  raise SystemError('GPU device not found')\n",
        "print('Found GPU at: {}'.format(device_name))"
      ],
      "execution_count": null,
      "outputs": []
    },
    {
      "cell_type": "code",
      "metadata": {
        "id": "QXm16mc6lS8t",
        "colab_type": "code",
        "colab": {}
      },
      "source": [
        "data = pd.read_csv('totalMatrix53.csv')"
      ],
      "execution_count": null,
      "outputs": []
    },
    {
      "cell_type": "code",
      "metadata": {
        "id": "8n5MSSPkmxor",
        "colab_type": "code",
        "colab": {}
      },
      "source": [
        "print(data.head(10))"
      ],
      "execution_count": null,
      "outputs": []
    },
    {
      "cell_type": "code",
      "metadata": {
        "id": "H1_2V_aFm6kl",
        "colab_type": "code",
        "colab": {}
      },
      "source": [
        "df = data.drop('Unnamed: 0', 1)"
      ],
      "execution_count": null,
      "outputs": []
    },
    {
      "cell_type": "code",
      "metadata": {
        "id": "vAUSbBeOm9uk",
        "colab_type": "code",
        "colab": {}
      },
      "source": [
        "discrete_columns = [\n",
        "    'treatment',\n",
        "    'nitrogen']\n"
      ],
      "execution_count": null,
      "outputs": []
    },
    {
      "cell_type": "code",
      "metadata": {
        "id": "yINHLWePnNKA",
        "colab_type": "code",
        "colab": {}
      },
      "source": [
        "!pip install ctgan"
      ],
      "execution_count": null,
      "outputs": []
    },
    {
      "cell_type": "code",
      "metadata": {
        "id": "Nej_wm2gH4yq",
        "colab_type": "code",
        "colab": {}
      },
      "source": [
        "from ctgan import CTGANSynthesizer"
      ],
      "execution_count": null,
      "outputs": []
    },
    {
      "cell_type": "code",
      "metadata": {
        "id": "OkX5IpHQHrTX",
        "colab_type": "code",
        "colab": {}
      },
      "source": [
        "def gpu():\n",
        "  with tf.device('/device:GPU:0'):\n",
        "    ctgan = CTGANSynthesizer()\n",
        "    ctgan.fit(df, discrete_columns, epochs=5)\n",
        "    return ctgan\n",
        "\n",
        "gpu()\n",
        "    "
      ],
      "execution_count": null,
      "outputs": []
    }
  ]
}